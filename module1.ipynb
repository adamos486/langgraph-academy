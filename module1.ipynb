{
 "cells": [
  {
   "cell_type": "code",
   "id": "initial_id",
   "metadata": {
    "collapsed": true,
    "ExecuteTime": {
     "end_time": "2025-02-23T07:38:09.239111Z",
     "start_time": "2025-02-23T07:38:08.209069Z"
    }
   },
   "source": "!pip install --quiet -U langgraph",
   "outputs": [],
   "execution_count": 1
  },
  {
   "metadata": {},
   "cell_type": "code",
   "outputs": [],
   "execution_count": null,
   "source": "",
   "id": "fdae2b9aac153325"
  },
  {
   "metadata": {},
   "cell_type": "markdown",
   "source": "**States** are the first things defined about the graph. These consist of the schema of the graph, and reducer functions to specify how to apply state updates.",
   "id": "645cfb853fd1fa54"
  },
  {
   "metadata": {
    "ExecuteTime": {
     "end_time": "2025-02-23T07:40:03.757155Z",
     "start_time": "2025-02-23T07:40:03.752265Z"
    }
   },
   "cell_type": "code",
   "source": [
    "from typing_extensions import TypedDict\n",
    "\n",
    "class State(TypedDict):\n",
    "    graph_state: str"
   ],
   "id": "1646c2199ff51579",
   "outputs": [],
   "execution_count": 2
  },
  {
   "metadata": {},
   "cell_type": "markdown",
   "source": "**Nodes** are python functions (synchronous or asynchronous). The first positional argument is the state.",
   "id": "cb5e0e292bb4a10c"
  },
  {
   "metadata": {
    "ExecuteTime": {
     "end_time": "2025-02-23T07:54:34.610824Z",
     "start_time": "2025-02-23T07:54:34.605422Z"
    }
   },
   "cell_type": "code",
   "source": [
    "def node_1(state):\n",
    "    print(\"---Node 1---\")\n",
    "    return {\"graph state\": state['graph_state'] + \" I am\"}\n",
    "\n",
    "def node_2(state):\n",
    "    print(\"---Node 2---\")\n",
    "    return {\"graph state\": state['graph_state'] + \" happy!\"}\n",
    "\n",
    "def node_3(state):\n",
    "    print(\"---Node 3---\")\n",
    "    return {\"graph state\": state['graph_state'] + \" sad!\"}"
   ],
   "id": "aea54b8711249557",
   "outputs": [],
   "execution_count": 4
  },
  {
   "metadata": {},
   "cell_type": "markdown",
   "source": "**Schemas** are typically constructed in `TypedDict` types. `Pydantic` base models can also be used.",
   "id": "d6f2984444229647"
  },
  {
   "metadata": {
    "ExecuteTime": {
     "end_time": "2025-02-23T07:50:18.796095Z",
     "start_time": "2025-02-23T07:50:18.295738Z"
    }
   },
   "cell_type": "code",
   "source": [
    "from langgraph.graph import StateGraph, START, END\n",
    "from typing_extensions import TypedDict\n",
    "\n",
    "class InputState(TypedDict):\n",
    "    question: str\n",
    "\n",
    "class OutputState(TypedDict):\n",
    "    answer: str\n",
    "\n",
    "class OverallState(InputState, OutputState):\n",
    "    pass\n",
    "\n",
    "def answer_node(state: InputState):\n",
    "    return {\"answer\": \"bye\", \"question\": state[\"question\"]}\n",
    "\n",
    "builder = StateGraph(OverallState, input=InputState, output=OutputState)\n",
    "builder.add_node(answer_node)\n",
    "builder.add_edge(START, \"answer_node\")\n",
    "builder.add_edge(\"answer_node\", END)\n",
    "graph = builder.compile()\n",
    "\n",
    "print(graph.invoke({\"question\": \"hi\"}))"
   ],
   "id": "b9d65f4f6257d9ec",
   "outputs": [
    {
     "name": "stdout",
     "output_type": "stream",
     "text": [
      "{'answer': 'bye'}\n"
     ]
    }
   ],
   "execution_count": 3
  },
  {
   "metadata": {},
   "cell_type": "markdown",
   "source": [
    "**Edges** connect each node. Normal edges are used if you want to always go from like `node_1` to `node_2`.\n",
    "**Conditional edges** are used if you want optional routes between various nodes.\n",
    " ```python\n",
    "graph.add_conditional_edges(\"node_1\", routing_function)\n",
    "```\n",
    "The Routing function accepts current states of the graph, and returns a value. The default return value is used as the name of node or list of nodes to send the state to the next. Similar to functional programming chains.\n",
    "\n",
    "You can also provide a dictionary of optional routes.\n",
    "```python\n",
    "graph.add_conditional_edges(\"node_a\", routing_function, {True: \"node_b\", False: \"node_c\"})\n",
    "```"
   ],
   "id": "ab002f988df73645"
  },
  {
   "metadata": {
    "ExecuteTime": {
     "end_time": "2025-02-23T08:02:44.594937Z",
     "start_time": "2025-02-23T08:02:44.591125Z"
    }
   },
   "cell_type": "code",
   "source": [
    "import random\n",
    "from typing import Literal\n",
    "\n",
    "def decide_mode(state) -> Literal[\"node_2\", \"node_3\"]:\n",
    "    user_input = state['graph_state']\n",
    "    if random.random() < 0.5:\n",
    "        return \"node_2\"\n",
    "    return \"node_3\""
   ],
   "id": "44dd4d0aa6daefe2",
   "outputs": [],
   "execution_count": 5
  }
 ],
 "metadata": {
  "kernelspec": {
   "display_name": "Python 3",
   "language": "python",
   "name": "python3"
  },
  "language_info": {
   "codemirror_mode": {
    "name": "ipython",
    "version": 2
   },
   "file_extension": ".py",
   "mimetype": "text/x-python",
   "name": "python",
   "nbconvert_exporter": "python",
   "pygments_lexer": "ipython2",
   "version": "2.7.6"
  }
 },
 "nbformat": 4,
 "nbformat_minor": 5
}
