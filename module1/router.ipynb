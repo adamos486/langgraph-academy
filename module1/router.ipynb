{
 "cells": [
  {
   "cell_type": "code",
   "id": "initial_id",
   "metadata": {
    "collapsed": true,
    "ExecuteTime": {
     "end_time": "2025-02-25T01:52:24.862823Z",
     "start_time": "2025-02-25T01:52:23.261801Z"
    }
   },
   "source": "!pip install --quiet -U langgraph langchain_ollama langchain_core langchain_openai mermaid-python",
   "outputs": [],
   "execution_count": 3
  },
  {
   "metadata": {},
   "cell_type": "markdown",
   "source": [
    "A router is where a chat model routes between a direct response or a tool call based upon the user's input.\n",
    "\n",
    "```mermaid\n",
    "flowchart TD\n",
    "    n1[\"Start\"] --> n2([\"Step 1\"])\n",
    "    n2 --> n3[\"LLM\"]\n",
    "    n3 --> n4([\"Step 2\"]) & n5([\"Step 3\"])\n",
    "    n4 --> n6[\"End\"]\n",
    "    n5 --> n7[\"End\"]\n",
    "```\n",
    "\n"
   ],
   "id": "eafb43b4043528c3"
  },
  {
   "metadata": {
    "ExecuteTime": {
     "end_time": "2025-02-25T01:57:17.780218Z",
     "start_time": "2025-02-25T01:57:17.777193Z"
    }
   },
   "cell_type": "code",
   "source": [
    "import os\n",
    "\n",
    "os.environ[\"OPENAI_API_KEY\"] = os.environ.get(\"OPEN_AI_KEY\")"
   ],
   "id": "5d0c240b732ad678",
   "outputs": [],
   "execution_count": 6
  },
  {
   "metadata": {
    "ExecuteTime": {
     "end_time": "2025-02-25T01:58:56.510472Z",
     "start_time": "2025-02-25T01:58:55.470147Z"
    }
   },
   "cell_type": "code",
   "source": [
    "from langchain_openai import ChatOpenAI\n",
    "\n",
    "def multiply(a: int, b: int) -> int:\n",
    "    return a * b\n",
    "\n",
    "llm = ChatOpenAI(model=\"gpt-4o\")\n",
    "llm_with_tools = llm.bind_tools([multiply])\n"
   ],
   "id": "cd11c87e6fa1b267",
   "outputs": [],
   "execution_count": 7
  }
 ],
 "metadata": {
  "kernelspec": {
   "display_name": "Python 3",
   "language": "python",
   "name": "python3"
  },
  "language_info": {
   "codemirror_mode": {
    "name": "ipython",
    "version": 2
   },
   "file_extension": ".py",
   "mimetype": "text/x-python",
   "name": "python",
   "nbconvert_exporter": "python",
   "pygments_lexer": "ipython2",
   "version": "2.7.6"
  }
 },
 "nbformat": 4,
 "nbformat_minor": 5
}
