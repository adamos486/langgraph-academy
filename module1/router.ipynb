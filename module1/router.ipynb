{
 "cells": [
  {
   "cell_type": "code",
   "id": "initial_id",
   "metadata": {
    "ExecuteTime": {
     "end_time": "2025-02-25T02:04:56.133480Z",
     "start_time": "2025-02-25T02:04:54.814813Z"
    }
   },
   "source": [
    "import os\n",
    "\n",
    "from module1.simple_graph_and_chain import llm_with_tools\n",
    "!pip install --quiet -U langgraph langchain_ollama langchain_core langchain_openai mermaid-python\n",
    "os.environ[\"OPENAI_API_KEY\"] = os.environ.get(\"OPEN_AI_KEY\")"
   ],
   "outputs": [],
   "execution_count": 6
  },
  {
   "cell_type": "markdown",
   "id": "eafb43b4043528c3",
   "metadata": {},
   "source": [
    "A router is where a chat model routes between a direct response or a tool call based upon the user's input.\n",
    "\n",
    "```mermaid\n",
    "flowchart TD\n",
    "    n1[\"Start\"] --> n2([\"Step 1\"])\n",
    "    n2 --> n3[\"LLM\"]\n",
    "    n3 --> n4([\"Step 2\"]) & n5([\"Step 3\"])\n",
    "    n4 --> n6[\"End\"]\n",
    "    n5 --> n7[\"End\"]\n",
    "```"
   ]
  },
  {
   "cell_type": "code",
   "id": "5d0c240b732ad678",
   "metadata": {
    "ExecuteTime": {
     "end_time": "2025-02-25T02:06:59.074151Z",
     "start_time": "2025-02-25T02:06:59.000873Z"
    }
   },
   "source": [
    "from langchain_openai import ChatOpenAI\n",
    "\n",
    "def multiply(a: int, b: int) -> int:\n",
    "    return a * b\n",
    "llm = ChatOpenAI(model=\"gpt-4o\")\n",
    "llm_with_tools = llm.bind_tools([multiply])"
   ],
   "outputs": [],
   "execution_count": 8
  }
 ],
 "metadata": {
  "kernelspec": {
   "display_name": "Python 3 (ipykernel)",
   "language": "python",
   "name": "python3"
  },
  "language_info": {
   "codemirror_mode": {
    "name": "ipython",
    "version": 3
   },
   "file_extension": ".py",
   "mimetype": "text/x-python",
   "name": "python",
   "nbconvert_exporter": "python",
   "pygments_lexer": "ipython3",
   "version": "3.13.2"
  }
 },
 "nbformat": 4,
 "nbformat_minor": 5
}
