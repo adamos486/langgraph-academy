{
 "cells": [
  {
   "cell_type": "code",
   "id": "initial_id",
   "metadata": {
    "collapsed": true,
    "ExecuteTime": {
     "end_time": "2025-02-25T04:32:49.218951Z",
     "start_time": "2025-02-25T04:32:47.701753Z"
    }
   },
   "source": [
    "!pip install --quiet -U langgraph langchain_ollama langchain_core langchain_openai mermaid-python\n",
    "import os\n",
    "os.environ[\"OPENAI_API_KEY\"] = os.environ.get(\"OPEN_AI_KEY\")"
   ],
   "outputs": [],
   "execution_count": 1
  },
  {
   "metadata": {},
   "cell_type": "markdown",
   "source": [
    "# Goals\n",
    "- We can extend a router, into a generic agent architecture. We return a `ToolMessage` to a user, when we call a tool.\n",
    "- What happens if we pass a `ToolMessage` back to a model?\n",
    "\n",
    "# ReAct\n",
    "- **ReAct** is a general agent architecture:\n",
    "    - `act` - let the model call specific tools\n",
    "    - `observe` - pass the tool output back to the model\n",
    "    - `reason` - let the model reason about the tool output to decide what to do next."
   ],
   "id": "78ef826117ced192"
  },
  {
   "metadata": {
    "ExecuteTime": {
     "end_time": "2025-02-25T04:39:32.466410Z",
     "start_time": "2025-02-25T04:39:31.362826Z"
    }
   },
   "cell_type": "code",
   "source": [
    "from langchain_openai import ChatOpenAI\n",
    "\n",
    "def multiply(a: int, b: int) -> int:\n",
    "    \"\"\"\n",
    "    Multiply a and b\n",
    "    :param a: integer\n",
    "    :param b: integer\n",
    "    :return: integer product\n",
    "    \"\"\"\n",
    "    return a * b\n",
    "\n",
    "def add(a: int, b: int) -> int:\n",
    "    \"\"\"\n",
    "    Adds a and b\n",
    "    :param a: integer\n",
    "    :param b: integer\n",
    "    :return: integer addition\n",
    "    \"\"\"\n",
    "    return a + b\n",
    "\n",
    "def divide(a: int, b: int) -> float:\n",
    "    \"\"\"Divide a and b.\n",
    "\n",
    "    Args:\n",
    "        a: first int\n",
    "        b: second int\n",
    "    \"\"\"\n",
    "    return a / b\n",
    "\n",
    "tools = [add, multiply, divide]\n",
    "llm = ChatOpenAI(model=\"gpt-4o\")\n",
    "llm_with_tools = llm.bind_tools(tools, parallel_tool_calls=False)"
   ],
   "id": "2db26d4a90c6beac",
   "outputs": [],
   "execution_count": 2
  },
  {
   "metadata": {
    "ExecuteTime": {
     "end_time": "2025-02-25T04:41:23.659337Z",
     "start_time": "2025-02-25T04:41:23.614874Z"
    }
   },
   "cell_type": "code",
   "source": [
    "from langgraph.graph import MessagesState\n",
    "from langchain_core.messages import HumanMessage, SystemMessage\n",
    "\n",
    "sys_msg = SystemMessage(content=\"You are a helpful assistant tasked with performing arithmetic on a set of inputs.\")\n",
    "\n",
    "def assistant(state: MessagesState):\n",
    "    return {\"messages\": [llm_with_tools.invoke([sys_msg] + state[\"messages\"])]}"
   ],
   "id": "196833ce324b9b3a",
   "outputs": [],
   "execution_count": 3
  }
 ],
 "metadata": {
  "kernelspec": {
   "display_name": "Python 3",
   "language": "python",
   "name": "python3"
  },
  "language_info": {
   "codemirror_mode": {
    "name": "ipython",
    "version": 2
   },
   "file_extension": ".py",
   "mimetype": "text/x-python",
   "name": "python",
   "nbconvert_exporter": "python",
   "pygments_lexer": "ipython2",
   "version": "2.7.6"
  }
 },
 "nbformat": 4,
 "nbformat_minor": 5
}
