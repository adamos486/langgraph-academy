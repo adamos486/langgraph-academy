{
 "cells": [
  {
   "cell_type": "code",
   "id": "initial_id",
   "metadata": {
    "collapsed": true,
    "ExecuteTime": {
     "end_time": "2025-02-22T23:42:28.892243Z",
     "start_time": "2025-02-22T23:42:27.511321Z"
    }
   },
   "source": [
    "!pip install langchain-ollama\n",
    "\n",
    "import os, getpass\n",
    "\n",
    "from langchain_core.callbacks import CallbackManagerForLLMRun, AsyncCallbackManagerForLLMRun\n",
    "from langchain_core.outputs import ChatResult\n",
    "\n",
    "\n",
    "def _set_env(var: str):\n",
    "    if not os.environ.get(var):\n",
    "        os.environ[var] = getpass.getpass(f\"{var}: \")\n",
    "\n",
    "os.environ['OPENAI_API_KEY'] = os.environ.get('OPEN_AI_KEY')"
   ],
   "outputs": [
    {
     "name": "stdout",
     "output_type": "stream",
     "text": [
      "Collecting langchain-ollama\r\n",
      "  Downloading langchain_ollama-0.2.3-py3-none-any.whl.metadata (1.9 kB)\r\n",
      "Requirement already satisfied: langchain-core<0.4.0,>=0.3.33 in /Users/adamcobb/.local/share/mise/installs/python/3.13.2/lib/python3.13/site-packages (from langchain-ollama) (0.3.37)\r\n",
      "Collecting ollama<1,>=0.4.4 (from langchain-ollama)\r\n",
      "  Downloading ollama-0.4.7-py3-none-any.whl.metadata (4.7 kB)\r\n",
      "Requirement already satisfied: langsmith<0.4,>=0.1.125 in /Users/adamcobb/.local/share/mise/installs/python/3.13.2/lib/python3.13/site-packages (from langchain-core<0.4.0,>=0.3.33->langchain-ollama) (0.3.10)\r\n",
      "Requirement already satisfied: tenacity!=8.4.0,<10.0.0,>=8.1.0 in /Users/adamcobb/.local/share/mise/installs/python/3.13.2/lib/python3.13/site-packages (from langchain-core<0.4.0,>=0.3.33->langchain-ollama) (9.0.0)\r\n",
      "Requirement already satisfied: jsonpatch<2.0,>=1.33 in /Users/adamcobb/.local/share/mise/installs/python/3.13.2/lib/python3.13/site-packages (from langchain-core<0.4.0,>=0.3.33->langchain-ollama) (1.33)\r\n",
      "Requirement already satisfied: PyYAML>=5.3 in /Users/adamcobb/.local/share/mise/installs/python/3.13.2/lib/python3.13/site-packages (from langchain-core<0.4.0,>=0.3.33->langchain-ollama) (6.0.2)\r\n",
      "Requirement already satisfied: packaging<25,>=23.2 in /Users/adamcobb/.local/share/mise/installs/python/3.13.2/lib/python3.13/site-packages (from langchain-core<0.4.0,>=0.3.33->langchain-ollama) (24.2)\r\n",
      "Requirement already satisfied: typing-extensions>=4.7 in /Users/adamcobb/.local/share/mise/installs/python/3.13.2/lib/python3.13/site-packages (from langchain-core<0.4.0,>=0.3.33->langchain-ollama) (4.12.2)\r\n",
      "Requirement already satisfied: pydantic<3.0.0,>=2.7.4 in /Users/adamcobb/.local/share/mise/installs/python/3.13.2/lib/python3.13/site-packages (from langchain-core<0.4.0,>=0.3.33->langchain-ollama) (2.10.6)\r\n",
      "Requirement already satisfied: httpx<0.29,>=0.27 in /Users/adamcobb/.local/share/mise/installs/python/3.13.2/lib/python3.13/site-packages (from ollama<1,>=0.4.4->langchain-ollama) (0.28.1)\r\n",
      "Requirement already satisfied: anyio in /Users/adamcobb/.local/share/mise/installs/python/3.13.2/lib/python3.13/site-packages (from httpx<0.29,>=0.27->ollama<1,>=0.4.4->langchain-ollama) (4.8.0)\r\n",
      "Requirement already satisfied: certifi in /Users/adamcobb/.local/share/mise/installs/python/3.13.2/lib/python3.13/site-packages (from httpx<0.29,>=0.27->ollama<1,>=0.4.4->langchain-ollama) (2025.1.31)\r\n",
      "Requirement already satisfied: httpcore==1.* in /Users/adamcobb/.local/share/mise/installs/python/3.13.2/lib/python3.13/site-packages (from httpx<0.29,>=0.27->ollama<1,>=0.4.4->langchain-ollama) (1.0.7)\r\n",
      "Requirement already satisfied: idna in /Users/adamcobb/.local/share/mise/installs/python/3.13.2/lib/python3.13/site-packages (from httpx<0.29,>=0.27->ollama<1,>=0.4.4->langchain-ollama) (3.10)\r\n",
      "Requirement already satisfied: h11<0.15,>=0.13 in /Users/adamcobb/.local/share/mise/installs/python/3.13.2/lib/python3.13/site-packages (from httpcore==1.*->httpx<0.29,>=0.27->ollama<1,>=0.4.4->langchain-ollama) (0.14.0)\r\n",
      "Requirement already satisfied: jsonpointer>=1.9 in /Users/adamcobb/.local/share/mise/installs/python/3.13.2/lib/python3.13/site-packages (from jsonpatch<2.0,>=1.33->langchain-core<0.4.0,>=0.3.33->langchain-ollama) (3.0.0)\r\n",
      "Requirement already satisfied: orjson<4.0.0,>=3.9.14 in /Users/adamcobb/.local/share/mise/installs/python/3.13.2/lib/python3.13/site-packages (from langsmith<0.4,>=0.1.125->langchain-core<0.4.0,>=0.3.33->langchain-ollama) (3.10.15)\r\n",
      "Requirement already satisfied: requests<3,>=2 in /Users/adamcobb/.local/share/mise/installs/python/3.13.2/lib/python3.13/site-packages (from langsmith<0.4,>=0.1.125->langchain-core<0.4.0,>=0.3.33->langchain-ollama) (2.32.3)\r\n",
      "Requirement already satisfied: requests-toolbelt<2.0.0,>=1.0.0 in /Users/adamcobb/.local/share/mise/installs/python/3.13.2/lib/python3.13/site-packages (from langsmith<0.4,>=0.1.125->langchain-core<0.4.0,>=0.3.33->langchain-ollama) (1.0.0)\r\n",
      "Requirement already satisfied: zstandard<0.24.0,>=0.23.0 in /Users/adamcobb/.local/share/mise/installs/python/3.13.2/lib/python3.13/site-packages (from langsmith<0.4,>=0.1.125->langchain-core<0.4.0,>=0.3.33->langchain-ollama) (0.23.0)\r\n",
      "Requirement already satisfied: annotated-types>=0.6.0 in /Users/adamcobb/.local/share/mise/installs/python/3.13.2/lib/python3.13/site-packages (from pydantic<3.0.0,>=2.7.4->langchain-core<0.4.0,>=0.3.33->langchain-ollama) (0.7.0)\r\n",
      "Requirement already satisfied: pydantic-core==2.27.2 in /Users/adamcobb/.local/share/mise/installs/python/3.13.2/lib/python3.13/site-packages (from pydantic<3.0.0,>=2.7.4->langchain-core<0.4.0,>=0.3.33->langchain-ollama) (2.27.2)\r\n",
      "Requirement already satisfied: charset-normalizer<4,>=2 in /Users/adamcobb/.local/share/mise/installs/python/3.13.2/lib/python3.13/site-packages (from requests<3,>=2->langsmith<0.4,>=0.1.125->langchain-core<0.4.0,>=0.3.33->langchain-ollama) (3.4.1)\r\n",
      "Requirement already satisfied: urllib3<3,>=1.21.1 in /Users/adamcobb/.local/share/mise/installs/python/3.13.2/lib/python3.13/site-packages (from requests<3,>=2->langsmith<0.4,>=0.1.125->langchain-core<0.4.0,>=0.3.33->langchain-ollama) (2.3.0)\r\n",
      "Requirement already satisfied: sniffio>=1.1 in /Users/adamcobb/.local/share/mise/installs/python/3.13.2/lib/python3.13/site-packages (from anyio->httpx<0.29,>=0.27->ollama<1,>=0.4.4->langchain-ollama) (1.3.1)\r\n",
      "Downloading langchain_ollama-0.2.3-py3-none-any.whl (19 kB)\r\n",
      "Downloading ollama-0.4.7-py3-none-any.whl (13 kB)\r\n",
      "Installing collected packages: ollama, langchain-ollama\r\n",
      "Successfully installed langchain-ollama-0.2.3 ollama-0.4.7\r\n"
     ]
    }
   ],
   "execution_count": 25
  },
  {
   "metadata": {},
   "cell_type": "code",
   "source": [
    "from langchain_openai import ChatOpenAI\n",
    "from langchain_ollama import ChatOllama\n",
    "\n",
    "gpt4o_chat = ChatOpenAI(model=\"gpt-4o\", temperature=0)\n",
    "gpt35_chat = ChatOpenAI(model=\"gpt-3.5-turbo-0125\", temperature=0)\n",
    "ollama_chat = ChatOllama(model=\"deepseek-r1:14b\", temperature=0)"
   ],
   "id": "53760c37cd9ef56d",
   "outputs": [],
   "execution_count": null
  },
  {
   "metadata": {
    "ExecuteTime": {
     "end_time": "2025-02-22T23:51:38.702302Z",
     "start_time": "2025-02-22T23:51:38.194220Z"
    }
   },
   "cell_type": "code",
   "source": [
    "from langchain_core.messages import HumanMessage\n",
    "\n",
    "# Create a message\n",
    "msg = HumanMessage(content=\"Say Hello\", name=\"Adam\")\n",
    "\n",
    "# Create a message list\n",
    "messages = [msg]\n",
    "\n",
    "#Invoke a model with a list of messages\n",
    "gpt4o_chat.invoke(messages)\n",
    "# ollama_chat.invoke(messages)"
   ],
   "id": "34e803c6ec5f4a3d",
   "outputs": [
    {
     "data": {
      "text/plain": [
       "AIMessage(content='Hello! How can I assist you today?', additional_kwargs={'refusal': None}, response_metadata={'token_usage': {'completion_tokens': 10, 'prompt_tokens': 11, 'total_tokens': 21, 'completion_tokens_details': {'accepted_prediction_tokens': 0, 'audio_tokens': 0, 'reasoning_tokens': 0, 'rejected_prediction_tokens': 0}, 'prompt_tokens_details': {'audio_tokens': 0, 'cached_tokens': 0}}, 'model_name': 'gpt-4o-2024-08-06', 'system_fingerprint': 'fp_eb9dce56a8', 'finish_reason': 'stop', 'logprobs': None}, id='run-6efb72d5-5532-41c3-a22c-6e6e35276d37-0', usage_metadata={'input_tokens': 11, 'output_tokens': 10, 'total_tokens': 21, 'input_token_details': {'audio': 0, 'cache_read': 0}, 'output_token_details': {'audio': 0, 'reasoning': 0}})"
      ]
     },
     "execution_count": 27,
     "metadata": {},
     "output_type": "execute_result"
    }
   ],
   "execution_count": 27
  }
 ],
 "metadata": {
  "kernelspec": {
   "display_name": "Python 3",
   "language": "python",
   "name": "python3"
  },
  "language_info": {
   "codemirror_mode": {
    "name": "ipython",
    "version": 2
   },
   "file_extension": ".py",
   "mimetype": "text/x-python",
   "name": "python",
   "nbconvert_exporter": "python",
   "pygments_lexer": "ipython2",
   "version": "2.7.6"
  }
 },
 "nbformat": 4,
 "nbformat_minor": 5
}
