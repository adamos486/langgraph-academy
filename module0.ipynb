{
 "cells": [
  {
   "cell_type": "code",
   "id": "initial_id",
   "metadata": {
    "collapsed": true,
    "ExecuteTime": {
     "end_time": "2025-02-23T06:45:47.645645Z",
     "start_time": "2025-02-23T06:45:46.192912Z"
    }
   },
   "source": [
    "!pip install langchain-ollama\n",
    "\n",
    "import os, getpass\n",
    "\n",
    "from langchain_core.callbacks import CallbackManagerForLLMRun, AsyncCallbackManagerForLLMRun\n",
    "from langchain_core.outputs import ChatResult\n",
    "\n",
    "\n",
    "def _set_env(var: str):\n",
    "    if not os.environ.get(var):\n",
    "        os.environ[var] = getpass.getpass(f\"{var}: \")\n",
    "\n",
    "os.environ['OPENAI_API_KEY'] = os.environ.get('OPEN_AI_KEY')"
   ],
   "outputs": [
    {
     "name": "stdout",
     "output_type": "stream",
     "text": [
      "Requirement already satisfied: langchain-ollama in /Users/adamcobb/.local/share/mise/installs/python/3.13.2/lib/python3.13/site-packages (0.2.3)\r\n",
      "Requirement already satisfied: langchain-core<0.4.0,>=0.3.33 in /Users/adamcobb/.local/share/mise/installs/python/3.13.2/lib/python3.13/site-packages (from langchain-ollama) (0.3.37)\r\n",
      "Requirement already satisfied: ollama<1,>=0.4.4 in /Users/adamcobb/.local/share/mise/installs/python/3.13.2/lib/python3.13/site-packages (from langchain-ollama) (0.4.7)\r\n",
      "Requirement already satisfied: langsmith<0.4,>=0.1.125 in /Users/adamcobb/.local/share/mise/installs/python/3.13.2/lib/python3.13/site-packages (from langchain-core<0.4.0,>=0.3.33->langchain-ollama) (0.3.10)\r\n",
      "Requirement already satisfied: tenacity!=8.4.0,<10.0.0,>=8.1.0 in /Users/adamcobb/.local/share/mise/installs/python/3.13.2/lib/python3.13/site-packages (from langchain-core<0.4.0,>=0.3.33->langchain-ollama) (9.0.0)\r\n",
      "Requirement already satisfied: jsonpatch<2.0,>=1.33 in /Users/adamcobb/.local/share/mise/installs/python/3.13.2/lib/python3.13/site-packages (from langchain-core<0.4.0,>=0.3.33->langchain-ollama) (1.33)\r\n",
      "Requirement already satisfied: PyYAML>=5.3 in /Users/adamcobb/.local/share/mise/installs/python/3.13.2/lib/python3.13/site-packages (from langchain-core<0.4.0,>=0.3.33->langchain-ollama) (6.0.2)\r\n",
      "Requirement already satisfied: packaging<25,>=23.2 in /Users/adamcobb/.local/share/mise/installs/python/3.13.2/lib/python3.13/site-packages (from langchain-core<0.4.0,>=0.3.33->langchain-ollama) (24.2)\r\n",
      "Requirement already satisfied: typing-extensions>=4.7 in /Users/adamcobb/.local/share/mise/installs/python/3.13.2/lib/python3.13/site-packages (from langchain-core<0.4.0,>=0.3.33->langchain-ollama) (4.12.2)\r\n",
      "Requirement already satisfied: pydantic<3.0.0,>=2.7.4 in /Users/adamcobb/.local/share/mise/installs/python/3.13.2/lib/python3.13/site-packages (from langchain-core<0.4.0,>=0.3.33->langchain-ollama) (2.10.6)\r\n",
      "Requirement already satisfied: httpx<0.29,>=0.27 in /Users/adamcobb/.local/share/mise/installs/python/3.13.2/lib/python3.13/site-packages (from ollama<1,>=0.4.4->langchain-ollama) (0.28.1)\r\n",
      "Requirement already satisfied: anyio in /Users/adamcobb/.local/share/mise/installs/python/3.13.2/lib/python3.13/site-packages (from httpx<0.29,>=0.27->ollama<1,>=0.4.4->langchain-ollama) (4.8.0)\r\n",
      "Requirement already satisfied: certifi in /Users/adamcobb/.local/share/mise/installs/python/3.13.2/lib/python3.13/site-packages (from httpx<0.29,>=0.27->ollama<1,>=0.4.4->langchain-ollama) (2025.1.31)\r\n",
      "Requirement already satisfied: httpcore==1.* in /Users/adamcobb/.local/share/mise/installs/python/3.13.2/lib/python3.13/site-packages (from httpx<0.29,>=0.27->ollama<1,>=0.4.4->langchain-ollama) (1.0.7)\r\n",
      "Requirement already satisfied: idna in /Users/adamcobb/.local/share/mise/installs/python/3.13.2/lib/python3.13/site-packages (from httpx<0.29,>=0.27->ollama<1,>=0.4.4->langchain-ollama) (3.10)\r\n",
      "Requirement already satisfied: h11<0.15,>=0.13 in /Users/adamcobb/.local/share/mise/installs/python/3.13.2/lib/python3.13/site-packages (from httpcore==1.*->httpx<0.29,>=0.27->ollama<1,>=0.4.4->langchain-ollama) (0.14.0)\r\n",
      "Requirement already satisfied: jsonpointer>=1.9 in /Users/adamcobb/.local/share/mise/installs/python/3.13.2/lib/python3.13/site-packages (from jsonpatch<2.0,>=1.33->langchain-core<0.4.0,>=0.3.33->langchain-ollama) (3.0.0)\r\n",
      "Requirement already satisfied: orjson<4.0.0,>=3.9.14 in /Users/adamcobb/.local/share/mise/installs/python/3.13.2/lib/python3.13/site-packages (from langsmith<0.4,>=0.1.125->langchain-core<0.4.0,>=0.3.33->langchain-ollama) (3.10.15)\r\n",
      "Requirement already satisfied: requests<3,>=2 in /Users/adamcobb/.local/share/mise/installs/python/3.13.2/lib/python3.13/site-packages (from langsmith<0.4,>=0.1.125->langchain-core<0.4.0,>=0.3.33->langchain-ollama) (2.32.3)\r\n",
      "Requirement already satisfied: requests-toolbelt<2.0.0,>=1.0.0 in /Users/adamcobb/.local/share/mise/installs/python/3.13.2/lib/python3.13/site-packages (from langsmith<0.4,>=0.1.125->langchain-core<0.4.0,>=0.3.33->langchain-ollama) (1.0.0)\r\n",
      "Requirement already satisfied: zstandard<0.24.0,>=0.23.0 in /Users/adamcobb/.local/share/mise/installs/python/3.13.2/lib/python3.13/site-packages (from langsmith<0.4,>=0.1.125->langchain-core<0.4.0,>=0.3.33->langchain-ollama) (0.23.0)\r\n",
      "Requirement already satisfied: annotated-types>=0.6.0 in /Users/adamcobb/.local/share/mise/installs/python/3.13.2/lib/python3.13/site-packages (from pydantic<3.0.0,>=2.7.4->langchain-core<0.4.0,>=0.3.33->langchain-ollama) (0.7.0)\r\n",
      "Requirement already satisfied: pydantic-core==2.27.2 in /Users/adamcobb/.local/share/mise/installs/python/3.13.2/lib/python3.13/site-packages (from pydantic<3.0.0,>=2.7.4->langchain-core<0.4.0,>=0.3.33->langchain-ollama) (2.27.2)\r\n",
      "Requirement already satisfied: charset-normalizer<4,>=2 in /Users/adamcobb/.local/share/mise/installs/python/3.13.2/lib/python3.13/site-packages (from requests<3,>=2->langsmith<0.4,>=0.1.125->langchain-core<0.4.0,>=0.3.33->langchain-ollama) (3.4.1)\r\n",
      "Requirement already satisfied: urllib3<3,>=1.21.1 in /Users/adamcobb/.local/share/mise/installs/python/3.13.2/lib/python3.13/site-packages (from requests<3,>=2->langsmith<0.4,>=0.1.125->langchain-core<0.4.0,>=0.3.33->langchain-ollama) (2.3.0)\r\n",
      "Requirement already satisfied: sniffio>=1.1 in /Users/adamcobb/.local/share/mise/installs/python/3.13.2/lib/python3.13/site-packages (from anyio->httpx<0.29,>=0.27->ollama<1,>=0.4.4->langchain-ollama) (1.3.1)\r\n"
     ]
    }
   ],
   "execution_count": 2
  },
  {
   "metadata": {
    "ExecuteTime": {
     "end_time": "2025-02-23T06:45:51.647532Z",
     "start_time": "2025-02-23T06:45:50.798020Z"
    }
   },
   "cell_type": "code",
   "source": [
    "from langchain_openai import ChatOpenAI\n",
    "from langchain_ollama import ChatOllama\n",
    "\n",
    "gpt4o_chat = ChatOpenAI(model=\"gpt-4o\", temperature=0)\n",
    "gpt35_chat = ChatOpenAI(model=\"gpt-3.5-turbo-0125\", temperature=0)\n",
    "ollama_chat = ChatOllama(model=\"deepseek-r1:7b\", temperature=0)"
   ],
   "id": "53760c37cd9ef56d",
   "outputs": [],
   "execution_count": 3
  },
  {
   "metadata": {
    "ExecuteTime": {
     "end_time": "2025-02-23T06:46:16.794230Z",
     "start_time": "2025-02-23T06:45:55.421074Z"
    }
   },
   "cell_type": "code",
   "source": [
    "from langchain_core.messages import HumanMessage\n",
    "\n",
    "# Create a message\n",
    "msg = HumanMessage(content=\"What's a sigmoid function?\", name=\"Adam\")\n",
    "\n",
    "# Create a message list\n",
    "messages = [msg]\n",
    "\n",
    "#Invoke a model with a list of messages\n",
    "gpt4o_chat.invoke(messages)\n",
    "response = ollama_chat.invoke(messages)\n",
    "print(f\"{response.model_dump_json()}\")"
   ],
   "id": "34e803c6ec5f4a3d",
   "outputs": [
    {
     "name": "stdout",
     "output_type": "stream",
     "text": [
      "{\"content\":\"<think>\\n\\n</think>\\n\\nA sigmoid function is a mathematical function that has a characteristic \\\"S\\\" shape. It is often used in various fields, including machine learning, artificial intelligence, and biology, to model processes that have an initial slow growth, followed by rapid growth, and then leveling off.\\n\\nOne of the most commonly used sigmoid functions is the logistic function, defined as:\\n\\n\\\\[\\nf(x) = \\\\frac{1}{1 + e^{-x}}\\n\\\\]\\n\\nThis function maps any real-valued input \\\\( x \\\\) to a value between 0 and 1, making it useful for modeling probabilities or binary outcomes.\\n\\nAnother common example is the hyperbolic tangent (tanh) function:\\n\\n\\\\[\\nf(x) = \\\\frac{e^x - e^{-x}}{e^x + e^{-x}}\\n\\\\]\\n\\nThis function maps inputs to values between -1 and 1, which can be useful in certain types of neural networks.\\n\\nThe sigmoid function is differentiable, with the derivative given by:\\n\\n\\\\[\\nf'(x) = f(x)(1 - f(x))\\n\\\\]\\n\\nThis property makes it particularly useful in backpropagation during the training of artificial neural networks.\\n\\nSigmoid functions are widely used in:\\n\\n- **Logistic regression** for binary classification problems.\\n- **Neural networks** as activation functions to introduce non-linearity.\\n- **Growth models** in biology and ecology to model population growth.\\n- **Thermodynamics** to describe phase transitions.\\n\\nThe general form of a sigmoid function can be written as:\\n\\n\\\\[\\nf(x) = \\\\frac{L}{1 + e^{-k(x - x_0)}}\\n\\\\]\\n\\nwhere:\\n- \\\\( L \\\\) is the maximum value of the function,\\n- \\\\( k \\\\) controls the steepness of the curve,\\n- \\\\( x_0 \\\\) is the midpoint (where the function equals half of \\\\( L \\\\)).\\n\\nSigmoid functions provide a smooth, continuous way to model processes that have an initial gradual change followed by a rapid transition and then leveling off.\",\"additional_kwargs\":{},\"response_metadata\":{\"model\":\"deepseek-r1:7b\",\"created_at\":\"2025-02-23T06:46:16.771308Z\",\"done\":true,\"done_reason\":\"stop\",\"total_duration\":11254496125,\"load_duration\":35699375,\"prompt_eval_count\":9,\"prompt_eval_duration\":208000000,\"eval_count\":416,\"eval_duration\":11009000000,\"message\":{\"role\":\"assistant\",\"content\":\"\",\"images\":null,\"tool_calls\":null}},\"type\":\"ai\",\"name\":null,\"id\":\"run-670eae16-9564-4a53-a15d-006c55f6b800-0\",\"example\":false,\"tool_calls\":[],\"invalid_tool_calls\":[],\"usage_metadata\":{\"input_tokens\":9,\"output_tokens\":416,\"total_tokens\":425}}\n"
     ]
    }
   ],
   "execution_count": 4
  }
 ],
 "metadata": {
  "kernelspec": {
   "display_name": "Python 3",
   "language": "python",
   "name": "python3"
  },
  "language_info": {
   "codemirror_mode": {
    "name": "ipython",
    "version": 2
   },
   "file_extension": ".py",
   "mimetype": "text/x-python",
   "name": "python",
   "nbconvert_exporter": "python",
   "pygments_lexer": "ipython2",
   "version": "2.7.6"
  }
 },
 "nbformat": 4,
 "nbformat_minor": 5
}
