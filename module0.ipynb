{
 "cells": [
  {
   "cell_type": "code",
   "id": "initial_id",
   "metadata": {
    "collapsed": true,
    "ExecuteTime": {
     "end_time": "2025-02-22T23:42:28.892243Z",
     "start_time": "2025-02-22T23:42:27.511321Z"
    }
   },
   "source": [
    "!pip install langchain-ollama\n",
    "\n",
    "import os, getpass\n",
    "\n",
    "from langchain_core.callbacks import CallbackManagerForLLMRun, AsyncCallbackManagerForLLMRun\n",
    "from langchain_core.outputs import ChatResult\n",
    "\n",
    "\n",
    "def _set_env(var: str):\n",
    "    if not os.environ.get(var):\n",
    "        os.environ[var] = getpass.getpass(f\"{var}: \")\n",
    "\n",
    "os.environ['OPENAI_API_KEY'] = os.environ.get('OPEN_AI_KEY')"
   ],
   "outputs": [
    {
     "name": "stdout",
     "output_type": "stream",
     "text": [
      "Collecting langchain-ollama\r\n",
      "  Downloading langchain_ollama-0.2.3-py3-none-any.whl.metadata (1.9 kB)\r\n",
      "Requirement already satisfied: langchain-core<0.4.0,>=0.3.33 in /Users/adamcobb/.local/share/mise/installs/python/3.13.2/lib/python3.13/site-packages (from langchain-ollama) (0.3.37)\r\n",
      "Collecting ollama<1,>=0.4.4 (from langchain-ollama)\r\n",
      "  Downloading ollama-0.4.7-py3-none-any.whl.metadata (4.7 kB)\r\n",
      "Requirement already satisfied: langsmith<0.4,>=0.1.125 in /Users/adamcobb/.local/share/mise/installs/python/3.13.2/lib/python3.13/site-packages (from langchain-core<0.4.0,>=0.3.33->langchain-ollama) (0.3.10)\r\n",
      "Requirement already satisfied: tenacity!=8.4.0,<10.0.0,>=8.1.0 in /Users/adamcobb/.local/share/mise/installs/python/3.13.2/lib/python3.13/site-packages (from langchain-core<0.4.0,>=0.3.33->langchain-ollama) (9.0.0)\r\n",
      "Requirement already satisfied: jsonpatch<2.0,>=1.33 in /Users/adamcobb/.local/share/mise/installs/python/3.13.2/lib/python3.13/site-packages (from langchain-core<0.4.0,>=0.3.33->langchain-ollama) (1.33)\r\n",
      "Requirement already satisfied: PyYAML>=5.3 in /Users/adamcobb/.local/share/mise/installs/python/3.13.2/lib/python3.13/site-packages (from langchain-core<0.4.0,>=0.3.33->langchain-ollama) (6.0.2)\r\n",
      "Requirement already satisfied: packaging<25,>=23.2 in /Users/adamcobb/.local/share/mise/installs/python/3.13.2/lib/python3.13/site-packages (from langchain-core<0.4.0,>=0.3.33->langchain-ollama) (24.2)\r\n",
      "Requirement already satisfied: typing-extensions>=4.7 in /Users/adamcobb/.local/share/mise/installs/python/3.13.2/lib/python3.13/site-packages (from langchain-core<0.4.0,>=0.3.33->langchain-ollama) (4.12.2)\r\n",
      "Requirement already satisfied: pydantic<3.0.0,>=2.7.4 in /Users/adamcobb/.local/share/mise/installs/python/3.13.2/lib/python3.13/site-packages (from langchain-core<0.4.0,>=0.3.33->langchain-ollama) (2.10.6)\r\n",
      "Requirement already satisfied: httpx<0.29,>=0.27 in /Users/adamcobb/.local/share/mise/installs/python/3.13.2/lib/python3.13/site-packages (from ollama<1,>=0.4.4->langchain-ollama) (0.28.1)\r\n",
      "Requirement already satisfied: anyio in /Users/adamcobb/.local/share/mise/installs/python/3.13.2/lib/python3.13/site-packages (from httpx<0.29,>=0.27->ollama<1,>=0.4.4->langchain-ollama) (4.8.0)\r\n",
      "Requirement already satisfied: certifi in /Users/adamcobb/.local/share/mise/installs/python/3.13.2/lib/python3.13/site-packages (from httpx<0.29,>=0.27->ollama<1,>=0.4.4->langchain-ollama) (2025.1.31)\r\n",
      "Requirement already satisfied: httpcore==1.* in /Users/adamcobb/.local/share/mise/installs/python/3.13.2/lib/python3.13/site-packages (from httpx<0.29,>=0.27->ollama<1,>=0.4.4->langchain-ollama) (1.0.7)\r\n",
      "Requirement already satisfied: idna in /Users/adamcobb/.local/share/mise/installs/python/3.13.2/lib/python3.13/site-packages (from httpx<0.29,>=0.27->ollama<1,>=0.4.4->langchain-ollama) (3.10)\r\n",
      "Requirement already satisfied: h11<0.15,>=0.13 in /Users/adamcobb/.local/share/mise/installs/python/3.13.2/lib/python3.13/site-packages (from httpcore==1.*->httpx<0.29,>=0.27->ollama<1,>=0.4.4->langchain-ollama) (0.14.0)\r\n",
      "Requirement already satisfied: jsonpointer>=1.9 in /Users/adamcobb/.local/share/mise/installs/python/3.13.2/lib/python3.13/site-packages (from jsonpatch<2.0,>=1.33->langchain-core<0.4.0,>=0.3.33->langchain-ollama) (3.0.0)\r\n",
      "Requirement already satisfied: orjson<4.0.0,>=3.9.14 in /Users/adamcobb/.local/share/mise/installs/python/3.13.2/lib/python3.13/site-packages (from langsmith<0.4,>=0.1.125->langchain-core<0.4.0,>=0.3.33->langchain-ollama) (3.10.15)\r\n",
      "Requirement already satisfied: requests<3,>=2 in /Users/adamcobb/.local/share/mise/installs/python/3.13.2/lib/python3.13/site-packages (from langsmith<0.4,>=0.1.125->langchain-core<0.4.0,>=0.3.33->langchain-ollama) (2.32.3)\r\n",
      "Requirement already satisfied: requests-toolbelt<2.0.0,>=1.0.0 in /Users/adamcobb/.local/share/mise/installs/python/3.13.2/lib/python3.13/site-packages (from langsmith<0.4,>=0.1.125->langchain-core<0.4.0,>=0.3.33->langchain-ollama) (1.0.0)\r\n",
      "Requirement already satisfied: zstandard<0.24.0,>=0.23.0 in /Users/adamcobb/.local/share/mise/installs/python/3.13.2/lib/python3.13/site-packages (from langsmith<0.4,>=0.1.125->langchain-core<0.4.0,>=0.3.33->langchain-ollama) (0.23.0)\r\n",
      "Requirement already satisfied: annotated-types>=0.6.0 in /Users/adamcobb/.local/share/mise/installs/python/3.13.2/lib/python3.13/site-packages (from pydantic<3.0.0,>=2.7.4->langchain-core<0.4.0,>=0.3.33->langchain-ollama) (0.7.0)\r\n",
      "Requirement already satisfied: pydantic-core==2.27.2 in /Users/adamcobb/.local/share/mise/installs/python/3.13.2/lib/python3.13/site-packages (from pydantic<3.0.0,>=2.7.4->langchain-core<0.4.0,>=0.3.33->langchain-ollama) (2.27.2)\r\n",
      "Requirement already satisfied: charset-normalizer<4,>=2 in /Users/adamcobb/.local/share/mise/installs/python/3.13.2/lib/python3.13/site-packages (from requests<3,>=2->langsmith<0.4,>=0.1.125->langchain-core<0.4.0,>=0.3.33->langchain-ollama) (3.4.1)\r\n",
      "Requirement already satisfied: urllib3<3,>=1.21.1 in /Users/adamcobb/.local/share/mise/installs/python/3.13.2/lib/python3.13/site-packages (from requests<3,>=2->langsmith<0.4,>=0.1.125->langchain-core<0.4.0,>=0.3.33->langchain-ollama) (2.3.0)\r\n",
      "Requirement already satisfied: sniffio>=1.1 in /Users/adamcobb/.local/share/mise/installs/python/3.13.2/lib/python3.13/site-packages (from anyio->httpx<0.29,>=0.27->ollama<1,>=0.4.4->langchain-ollama) (1.3.1)\r\n",
      "Downloading langchain_ollama-0.2.3-py3-none-any.whl (19 kB)\r\n",
      "Downloading ollama-0.4.7-py3-none-any.whl (13 kB)\r\n",
      "Installing collected packages: ollama, langchain-ollama\r\n",
      "Successfully installed langchain-ollama-0.2.3 ollama-0.4.7\r\n"
     ]
    }
   ],
   "execution_count": 25
  },
  {
   "metadata": {
    "ExecuteTime": {
     "end_time": "2025-02-23T06:27:36.071716Z",
     "start_time": "2025-02-23T06:27:35.883855Z"
    }
   },
   "cell_type": "code",
   "source": [
    "from langchain_openai import ChatOpenAI\n",
    "from langchain_ollama import ChatOllama\n",
    "\n",
    "gpt4o_chat = ChatOpenAI(model=\"gpt-4o\", temperature=0)\n",
    "gpt35_chat = ChatOpenAI(model=\"gpt-3.5-turbo-0125\", temperature=0)\n",
    "ollama_chat = ChatOllama(model=\"deepseek-r1:7b\", temperature=0)"
   ],
   "id": "53760c37cd9ef56d",
   "outputs": [],
   "execution_count": 32
  },
  {
   "metadata": {
    "ExecuteTime": {
     "end_time": "2025-02-23T06:29:42.899895Z",
     "start_time": "2025-02-23T06:29:41.785464Z"
    }
   },
   "cell_type": "code",
   "source": [
    "from langchain_core.messages import HumanMessage\n",
    "\n",
    "# Create a message\n",
    "msg = HumanMessage(content=\"Say Hello\", name=\"Adam\")\n",
    "\n",
    "# Create a message list\n",
    "messages = [msg]\n",
    "\n",
    "#Invoke a model with a list of messages\n",
    "gpt4o_chat.invoke(messages)\n",
    "response = ollama_chat.invoke(messages)\n",
    "print(f\"{response.model_dump_json()}\")"
   ],
   "id": "34e803c6ec5f4a3d",
   "outputs": [
    {
     "name": "stdout",
     "output_type": "stream",
     "text": [
      "{\"content\":\"<think>\\n\\n</think>\\n\\nHello! How can I assist you today? 😊\",\"additional_kwargs\":{},\"response_metadata\":{\"model\":\"deepseek-r1:7b\",\"created_at\":\"2025-02-23T06:29:42.887647Z\",\"done\":true,\"done_reason\":\"stop\",\"total_duration\":548672250,\"load_duration\":32065875,\"prompt_eval_count\":5,\"prompt_eval_duration\":194000000,\"eval_count\":16,\"eval_duration\":321000000,\"message\":{\"role\":\"assistant\",\"content\":\"\",\"images\":null,\"tool_calls\":null}},\"type\":\"ai\",\"name\":null,\"id\":\"run-c11b28ac-0402-49ad-a33e-830929abdf86-0\",\"example\":false,\"tool_calls\":[],\"invalid_tool_calls\":[],\"usage_metadata\":{\"input_tokens\":5,\"output_tokens\":16,\"total_tokens\":21}}\n"
     ]
    }
   ],
   "execution_count": 37
  }
 ],
 "metadata": {
  "kernelspec": {
   "display_name": "Python 3",
   "language": "python",
   "name": "python3"
  },
  "language_info": {
   "codemirror_mode": {
    "name": "ipython",
    "version": 2
   },
   "file_extension": ".py",
   "mimetype": "text/x-python",
   "name": "python",
   "nbconvert_exporter": "python",
   "pygments_lexer": "ipython2",
   "version": "2.7.6"
  }
 },
 "nbformat": 4,
 "nbformat_minor": 5
}
